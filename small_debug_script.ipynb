{
 "cells": [
  {
   "cell_type": "code",
   "execution_count": 1,
   "id": "1e228de0",
   "metadata": {},
   "outputs": [],
   "source": [
    "s = \"/home/damaoooo/Downloads/HermesSim/inputs/pcode/pcode_iscg/opc_counter.json\"\n",
    "\n",
    "import json\n",
    "with open(s, 'r') as f:\n",
    "    data = json.load(f)\n",
    "\n"
   ]
  },
  {
   "cell_type": "code",
   "execution_count": 4,
   "id": "583517c4",
   "metadata": {},
   "outputs": [
    {
     "name": "stdout",
     "output_type": "stream",
     "text": [
      "dict_keys(['RETURN', 'STORE', 'MULTIEQUAL', 'LOAD', 'INT_ADD', 'INT_XOR', 'BRANCH', 'SUBPIECE', 'PIECE', 'INT_EQUAL', 'INT_AND', 'CBRANCH', 'CALL', 'BOOL_NEGATE', 'INT_OR', 'INT_SUB', 'COPY', 'INT_MULT', 'BOOL_OR', 'INT_NOTEQUAL', 'INT_SLESS', 'INT_ZEXT', 'INT_SBORROW', 'INT_LESS', 'INT_2COMP', 'INT_NEGATE', 'BOOL_AND', 'INT_CARRY', 'INT_RIGHT', 'INT_LEFT', 'BRANCHIND', 'INT_SEXT', 'INT_SRIGHT', 'FLOAT2FLOAT', 'BOOL_XOR', 'CALLOTHER', 'INT_DIV', 'INT_REM', 'INT2FLOAT', 'INT_SCARRY', 'FLOAT_DIV', 'FLOAT_NAN', 'FLOAT_LESS', 'FLOAT_EQUAL', 'FLOAT_MULT', 'INT_SDIV', 'INT_SREM', 'TRUNC', 'ROUND', 'FLOAT_ADD', 'FLOAT_SUB', 'FLOAT_ABS', 'FLOAT_SQRT', 'POPCOUNT', 'CALLIND', 'FLOAT_NEG'])\n"
     ]
    }
   ],
   "source": [
    "import sys\n",
    "\n",
    "print(data['opc'].keys())"
   ]
  },
  {
   "cell_type": "code",
   "execution_count": null,
   "id": "24707c16",
   "metadata": {},
   "outputs": [],
   "source": []
  }
 ],
 "metadata": {
  "kernelspec": {
   "display_name": "hermessim",
   "language": "python",
   "name": "python3"
  },
  "language_info": {
   "codemirror_mode": {
    "name": "ipython",
    "version": 3
   },
   "file_extension": ".py",
   "mimetype": "text/x-python",
   "name": "python",
   "nbconvert_exporter": "python",
   "pygments_lexer": "ipython3",
   "version": "3.10.16"
  }
 },
 "nbformat": 4,
 "nbformat_minor": 5
}
